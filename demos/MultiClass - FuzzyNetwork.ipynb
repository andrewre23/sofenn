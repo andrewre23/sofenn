{
 "cells": [
  {
   "cell_type": "markdown",
   "metadata": {
    "collapsed": true
   },
   "source": [
    "# Iris Dataset - SOFENN Example"
   ]
  },
  {
   "cell_type": "markdown",
   "metadata": {},
   "source": [
    "Demonstrate multi-class classification with SOFENN on classic Iris Dataset"
   ]
  },
  {
   "cell_type": "code",
   "execution_count": 1,
   "metadata": {},
   "outputs": [],
   "source": [
    "import sys\n",
    "#sys.path.append(\"./\")\n",
    "sys.path.append(\"../src\")\n",
    "\n",
    "import warnings\n",
    "warnings.simplefilter(action='ignore', category=FutureWarning)"
   ]
  },
  {
   "cell_type": "code",
   "execution_count": 2,
   "metadata": {},
   "outputs": [
    {
     "name": "stderr",
     "output_type": "stream",
     "text": [
      "Using TensorFlow backend.\n"
     ]
    }
   ],
   "source": [
    "import numpy as np\n",
    "\n",
    "from sklearn import datasets\n",
    "from sklearn.model_selection import train_test_split\n",
    "\n",
    "import matplotlib.pyplot as plt\n",
    "from matplotlib.patches import Ellipse\n",
    "\n",
    "from sofenn.FuzzyNetwork import FuzzyNetwork\n",
    "\n",
    "import os\n",
    "\n",
    "os.environ['KMP_DUPLICATE_LIB_OK']='True'"
   ]
  },
  {
   "cell_type": "markdown",
   "metadata": {},
   "source": [
    "## Read in and prep Iris Dataset"
   ]
  },
  {
   "cell_type": "code",
   "execution_count": 3,
   "metadata": {
    "scrolled": true
   },
   "outputs": [],
   "source": [
    "# read in iris dataset\n",
    "iris = datasets.load_iris()\n",
    "# create one-hot encoded vector for each class\n",
    "Y = []\n",
    "for y in iris.target:\n",
    "    tmp = np.zeros(3)\n",
    "    tmp[y] = 1\n",
    "    Y.append(tmp)\n",
    "Y = np.array(Y)\n",
    "    \n",
    "# split to train/test\n",
    "X_train, X_test, y_train, y_test = train_test_split(iris.data, Y, test_size=0.1)"
   ]
  },
  {
   "cell_type": "code",
   "execution_count": 4,
   "metadata": {
    "scrolled": true
   },
   "outputs": [
    {
     "name": "stdout",
     "output_type": "stream",
     "text": [
      "Building Fuzzy Network with 5 neurons...\n",
      "WARNING:tensorflow:From C:\\Users\\Andrew\\PycharmProjects\\sofenn\\venv\\lib\\site-packages\\tensorflow\\python\\framework\\op_def_library.py:263: colocate_with (from tensorflow.python.framework.ops) is deprecated and will be removed in a future version.\n",
      "Instructions for updating:\n",
      "Colocations handled automatically by placer.\n",
      "...Model successfully built!\n"
     ]
    }
   ],
   "source": [
    "fuzz = FuzzyNetwork(\n",
    "            X_train, X_test, y_train, y_test,           # data attributes\n",
    "            neurons=5, max_neurons=100,                 # initialization parameters\n",
    "            ifpart_thresh=0.1354, err_delta=0.12        # evaluation and ifpart threshold\n",
    "            )"
   ]
  },
  {
   "cell_type": "code",
   "execution_count": 5,
   "metadata": {},
   "outputs": [
    {
     "name": "stdout",
     "output_type": "stream",
     "text": [
      "Compiling model...\n",
      "__________________________________________________________________________________________________\n",
      "Layer (type)                    Output Shape         Param #     Connected to                     \n",
      "==================================================================================================\n",
      "Inputs (InputLayer)             (None, 4)            0                                            \n",
      "__________________________________________________________________________________________________\n",
      "FuzzyRules (FuzzyLayer)         (None, 5)            40          Inputs[0][0]                     \n",
      "__________________________________________________________________________________________________\n",
      "Normalization (NormalizedLayer) (None, 5)            0           FuzzyRules[0][0]                 \n",
      "__________________________________________________________________________________________________\n",
      "Weights (WeightedLayer)         (None, 5)            25          Inputs[0][0]                     \n",
      "                                                                 Normalization[0][0]              \n",
      "__________________________________________________________________________________________________\n",
      "RawOutput (OutputLayer)         (None, 1)            0           Weights[0][0]                    \n",
      "__________________________________________________________________________________________________\n",
      "Softmax (Dense)                 (None, 3)            6           RawOutput[0][0]                  \n",
      "==================================================================================================\n",
      "Total params: 71\n",
      "Trainable params: 71\n",
      "Non-trainable params: 0\n",
      "__________________________________________________________________________________________________\n",
      "None\n"
     ]
    }
   ],
   "source": [
    "fuzz.compile_model()"
   ]
  },
  {
   "cell_type": "code",
   "execution_count": 6,
   "metadata": {},
   "outputs": [
    {
     "name": "stdout",
     "output_type": "stream",
     "text": [
      "Training model...\n",
      "WARNING:tensorflow:From C:\\Users\\Andrew\\PycharmProjects\\sofenn\\venv\\lib\\site-packages\\tensorflow\\python\\ops\\math_ops.py:3066: to_int32 (from tensorflow.python.ops.math_ops) is deprecated and will be removed in a future version.\n",
      "Instructions for updating:\n",
      "Use tf.cast instead.\n",
      "Epoch 1/150\n",
      "135/135 [==============================] - 0s 972us/step - loss: 10.2022 - binary_accuracy: 0.6667\n",
      "Epoch 2/150\n",
      "135/135 [==============================] - 0s 33us/step - loss: 10.1477 - binary_accuracy: 0.6667\n",
      "Epoch 3/150\n",
      "135/135 [==============================] - 0s 31us/step - loss: 10.0932 - binary_accuracy: 0.6667\n",
      "Epoch 4/150\n",
      "135/135 [==============================] - 0s 22us/step - loss: 10.0630 - binary_accuracy: 0.6667\n",
      "Epoch 5/150\n",
      "135/135 [==============================] - 0s 31us/step - loss: 10.0082 - binary_accuracy: 0.6667\n",
      "Epoch 6/150\n",
      "135/135 [==============================] - 0s 30us/step - loss: 9.9603 - binary_accuracy: 0.6667\n",
      "Epoch 7/150\n",
      "135/135 [==============================] - 0s 26us/step - loss: 9.9263 - binary_accuracy: 0.6667\n",
      "Epoch 8/150\n",
      "135/135 [==============================] - 0s 33us/step - loss: 9.8763 - binary_accuracy: 0.6667\n",
      "Epoch 9/150\n",
      "135/135 [==============================] - 0s 22us/step - loss: 9.8136 - binary_accuracy: 0.6667\n",
      "Epoch 10/150\n",
      "135/135 [==============================] - 0s 23us/step - loss: 9.7799 - binary_accuracy: 0.6667\n",
      "Epoch 11/150\n",
      "135/135 [==============================] - 0s 30us/step - loss: 9.7765 - binary_accuracy: 0.6667\n",
      "Epoch 12/150\n",
      "135/135 [==============================] - 0s 30us/step - loss: 9.7001 - binary_accuracy: 0.6667\n",
      "Epoch 13/150\n",
      "135/135 [==============================] - 0s 26us/step - loss: 9.6658 - binary_accuracy: 0.6667\n",
      "Epoch 14/150\n",
      "135/135 [==============================] - 0s 22us/step - loss: 9.6238 - binary_accuracy: 0.6667\n",
      "Epoch 15/150\n",
      "135/135 [==============================] - 0s 25us/step - loss: 9.5319 - binary_accuracy: 0.6691\n",
      "Epoch 16/150\n",
      "135/135 [==============================] - 0s 30us/step - loss: 9.5918 - binary_accuracy: 0.6691\n",
      "Epoch 17/150\n",
      "135/135 [==============================] - 0s 35us/step - loss: 9.4716 - binary_accuracy: 0.6765\n",
      "Epoch 18/150\n",
      "135/135 [==============================] - 0s 30us/step - loss: 9.5023 - binary_accuracy: 0.6790\n",
      "Epoch 19/150\n",
      "135/135 [==============================] - 0s 30us/step - loss: 9.4064 - binary_accuracy: 0.6840\n",
      "Epoch 20/150\n",
      "135/135 [==============================] - 0s 30us/step - loss: 9.3349 - binary_accuracy: 0.6889\n",
      "Epoch 21/150\n",
      "135/135 [==============================] - 0s 30us/step - loss: 9.2513 - binary_accuracy: 0.7012\n",
      "Epoch 22/150\n",
      "135/135 [==============================] - 0s 25us/step - loss: 9.2682 - binary_accuracy: 0.7062\n",
      "Epoch 23/150\n",
      "135/135 [==============================] - 0s 22us/step - loss: 9.1650 - binary_accuracy: 0.7185\n",
      "Epoch 24/150\n",
      "135/135 [==============================] - 0s 27us/step - loss: 9.0949 - binary_accuracy: 0.7210\n",
      "Epoch 25/150\n",
      "135/135 [==============================] - 0s 22us/step - loss: 9.1506 - binary_accuracy: 0.7309\n",
      "Epoch 26/150\n",
      "135/135 [==============================] - 0s 22us/step - loss: 9.1268 - binary_accuracy: 0.7358\n",
      "Epoch 27/150\n",
      "135/135 [==============================] - 0s 24us/step - loss: 8.9795 - binary_accuracy: 0.7383\n",
      "Epoch 28/150\n",
      "135/135 [==============================] - 0s 30us/step - loss: 8.9684 - binary_accuracy: 0.7407\n",
      "Epoch 29/150\n",
      "135/135 [==============================] - 0s 26us/step - loss: 8.9221 - binary_accuracy: 0.7432\n",
      "Epoch 30/150\n",
      "135/135 [==============================] - 0s 22us/step - loss: 8.8097 - binary_accuracy: 0.7432\n",
      "Epoch 31/150\n",
      "135/135 [==============================] - 0s 30us/step - loss: 8.7376 - binary_accuracy: 0.7457\n",
      "Epoch 32/150\n",
      "135/135 [==============================] - 0s 39us/step - loss: 8.7814 - binary_accuracy: 0.7481\n",
      "Epoch 33/150\n",
      "135/135 [==============================] - 0s 22us/step - loss: 8.7089 - binary_accuracy: 0.7506\n",
      "Epoch 34/150\n",
      "135/135 [==============================] - 0s 23us/step - loss: 8.5976 - binary_accuracy: 0.7556\n",
      "Epoch 35/150\n",
      "135/135 [==============================] - 0s 22us/step - loss: 8.5570 - binary_accuracy: 0.7580\n",
      "Epoch 36/150\n",
      "135/135 [==============================] - 0s 26us/step - loss: 8.6019 - binary_accuracy: 0.7580\n",
      "Epoch 37/150\n",
      "135/135 [==============================] - 0s 31us/step - loss: 8.5163 - binary_accuracy: 0.7580\n",
      "Epoch 38/150\n",
      "135/135 [==============================] - 0s 22us/step - loss: 8.3436 - binary_accuracy: 0.7580\n",
      "Epoch 39/150\n",
      "135/135 [==============================] - 0s 23us/step - loss: 8.2633 - binary_accuracy: 0.7630\n",
      "Epoch 40/150\n",
      "135/135 [==============================] - 0s 30us/step - loss: 8.2823 - binary_accuracy: 0.7630\n",
      "Epoch 41/150\n",
      "135/135 [==============================] - 0s 26us/step - loss: 8.3109 - binary_accuracy: 0.7630\n",
      "Epoch 42/150\n",
      "135/135 [==============================] - 0s 30us/step - loss: 8.2376 - binary_accuracy: 0.7630\n",
      "Epoch 43/150\n",
      "135/135 [==============================] - 0s 30us/step - loss: 8.1536 - binary_accuracy: 0.7605\n",
      "Epoch 44/150\n",
      "135/135 [==============================] - 0s 22us/step - loss: 8.0794 - binary_accuracy: 0.7630\n",
      "Epoch 45/150\n",
      "135/135 [==============================] - 0s 30us/step - loss: 8.0282 - binary_accuracy: 0.7605\n",
      "Epoch 46/150\n",
      "135/135 [==============================] - 0s 24us/step - loss: 7.9056 - binary_accuracy: 0.7605\n",
      "Epoch 47/150\n",
      "135/135 [==============================] - 0s 30us/step - loss: 7.8263 - binary_accuracy: 0.7605\n",
      "Epoch 48/150\n",
      "135/135 [==============================] - 0s 26us/step - loss: 7.8173 - binary_accuracy: 0.7605\n",
      "Epoch 49/150\n",
      "135/135 [==============================] - 0s 31us/step - loss: 7.6698 - binary_accuracy: 0.7605\n",
      "Epoch 50/150\n",
      "135/135 [==============================] - 0s 22us/step - loss: 7.6591 - binary_accuracy: 0.7630\n",
      "Epoch 51/150\n",
      "135/135 [==============================] - 0s 24us/step - loss: 7.6210 - binary_accuracy: 0.7654\n",
      "Epoch 52/150\n",
      "135/135 [==============================] - 0s 22us/step - loss: 7.5618 - binary_accuracy: 0.7654\n",
      "Epoch 53/150\n",
      "135/135 [==============================] - 0s 26us/step - loss: 7.5076 - binary_accuracy: 0.7630\n",
      "Epoch 54/150\n",
      "135/135 [==============================] - 0s 32us/step - loss: 7.4465 - binary_accuracy: 0.7605\n",
      "Epoch 55/150\n",
      "135/135 [==============================] - 0s 22us/step - loss: 7.3709 - binary_accuracy: 0.7654\n",
      "Epoch 56/150\n",
      "135/135 [==============================] - 0s 22us/step - loss: 7.3736 - binary_accuracy: 0.7654\n",
      "Epoch 57/150\n",
      "135/135 [==============================] - 0s 22us/step - loss: 7.2561 - binary_accuracy: 0.7728\n",
      "Epoch 58/150\n",
      "135/135 [==============================] - 0s 22us/step - loss: 7.2628 - binary_accuracy: 0.7951\n",
      "Epoch 59/150\n",
      "135/135 [==============================] - 0s 22us/step - loss: 7.1370 - binary_accuracy: 0.8296\n",
      "Epoch 60/150\n",
      "135/135 [==============================] - 0s 22us/step - loss: 7.0257 - binary_accuracy: 0.8642\n",
      "Epoch 61/150\n",
      "135/135 [==============================] - 0s 27us/step - loss: 7.0916 - binary_accuracy: 0.8741\n",
      "Epoch 62/150\n",
      "135/135 [==============================] - 0s 30us/step - loss: 6.9608 - binary_accuracy: 0.8790\n",
      "Epoch 63/150\n",
      "135/135 [==============================] - 0s 26us/step - loss: 6.8051 - binary_accuracy: 0.8790\n",
      "Epoch 64/150\n",
      "135/135 [==============================] - 0s 22us/step - loss: 6.8442 - binary_accuracy: 0.8790\n",
      "Epoch 65/150\n",
      "135/135 [==============================] - 0s 26us/step - loss: 6.8183 - binary_accuracy: 0.8790\n",
      "Epoch 66/150\n",
      "135/135 [==============================] - 0s 30us/step - loss: 6.6149 - binary_accuracy: 0.8790\n",
      "Epoch 67/150\n",
      "135/135 [==============================] - 0s 30us/step - loss: 6.5008 - binary_accuracy: 0.8790\n",
      "Epoch 68/150\n",
      "135/135 [==============================] - 0s 24us/step - loss: 6.5320 - binary_accuracy: 0.8790\n",
      "Epoch 69/150\n",
      "135/135 [==============================] - 0s 22us/step - loss: 6.4751 - binary_accuracy: 0.8790\n",
      "Epoch 70/150\n",
      "135/135 [==============================] - 0s 22us/step - loss: 6.5143 - binary_accuracy: 0.8790\n",
      "Epoch 71/150\n",
      "135/135 [==============================] - 0s 23us/step - loss: 6.3968 - binary_accuracy: 0.8790\n",
      "Epoch 72/150\n"
     ]
    },
    {
     "name": "stdout",
     "output_type": "stream",
     "text": [
      "135/135 [==============================] - 0s 22us/step - loss: 6.1507 - binary_accuracy: 0.8815\n",
      "Epoch 73/150\n",
      "135/135 [==============================] - 0s 22us/step - loss: 6.2020 - binary_accuracy: 0.8790\n",
      "Epoch 74/150\n",
      "135/135 [==============================] - 0s 22us/step - loss: 6.1387 - binary_accuracy: 0.8790\n",
      "Epoch 75/150\n",
      "135/135 [==============================] - 0s 26us/step - loss: 6.0386 - binary_accuracy: 0.8790\n",
      "Epoch 76/150\n",
      "135/135 [==============================] - 0s 23us/step - loss: 5.9835 - binary_accuracy: 0.8790\n",
      "Epoch 77/150\n",
      "135/135 [==============================] - 0s 22us/step - loss: 6.0242 - binary_accuracy: 0.8790\n",
      "Epoch 78/150\n",
      "135/135 [==============================] - 0s 23us/step - loss: 5.8886 - binary_accuracy: 0.8790\n",
      "Epoch 79/150\n",
      "135/135 [==============================] - 0s 30us/step - loss: 5.9347 - binary_accuracy: 0.8790\n",
      "Epoch 80/150\n",
      "135/135 [==============================] - 0s 30us/step - loss: 5.7795 - binary_accuracy: 0.8765\n",
      "Epoch 81/150\n",
      "135/135 [==============================] - 0s 31us/step - loss: 5.8393 - binary_accuracy: 0.8765\n",
      "Epoch 82/150\n",
      "135/135 [==============================] - 0s 30us/step - loss: 5.5573 - binary_accuracy: 0.8765\n",
      "Epoch 83/150\n",
      "135/135 [==============================] - 0s 26us/step - loss: 5.5126 - binary_accuracy: 0.8765\n",
      "Epoch 84/150\n",
      "135/135 [==============================] - 0s 22us/step - loss: 5.5764 - binary_accuracy: 0.8765\n",
      "Epoch 85/150\n",
      "135/135 [==============================] - 0s 30us/step - loss: 5.4941 - binary_accuracy: 0.8765\n",
      "Epoch 86/150\n",
      "135/135 [==============================] - 0s 30us/step - loss: 5.4750 - binary_accuracy: 0.8741\n",
      "Epoch 87/150\n",
      "135/135 [==============================] - 0s 23us/step - loss: 5.5044 - binary_accuracy: 0.8716\n",
      "Epoch 88/150\n",
      "135/135 [==============================] - 0s 22us/step - loss: 5.3560 - binary_accuracy: 0.8691\n",
      "Epoch 89/150\n",
      "135/135 [==============================] - 0s 30us/step - loss: 5.3505 - binary_accuracy: 0.8691\n",
      "Epoch 90/150\n",
      "135/135 [==============================] - 0s 27us/step - loss: 5.4150 - binary_accuracy: 0.8716\n",
      "Epoch 91/150\n",
      "135/135 [==============================] - 0s 27us/step - loss: 5.3039 - binary_accuracy: 0.8716\n",
      "Epoch 92/150\n",
      "135/135 [==============================] - 0s 30us/step - loss: 5.2692 - binary_accuracy: 0.8667\n",
      "Epoch 93/150\n",
      "135/135 [==============================] - 0s 26us/step - loss: 5.1110 - binary_accuracy: 0.8667\n",
      "Epoch 94/150\n",
      "135/135 [==============================] - 0s 26us/step - loss: 5.0748 - binary_accuracy: 0.8667\n",
      "Epoch 95/150\n",
      "135/135 [==============================] - 0s 22us/step - loss: 5.1158 - binary_accuracy: 0.8667\n",
      "Epoch 96/150\n",
      "135/135 [==============================] - 0s 19us/step - loss: 4.9502 - binary_accuracy: 0.8667\n",
      "Epoch 97/150\n",
      "135/135 [==============================] - 0s 22us/step - loss: 5.0084 - binary_accuracy: 0.8667\n",
      "Epoch 98/150\n",
      "135/135 [==============================] - 0s 30us/step - loss: 5.0667 - binary_accuracy: 0.8667\n",
      "Epoch 99/150\n",
      "135/135 [==============================] - 0s 32us/step - loss: 4.9081 - binary_accuracy: 0.8667\n",
      "Epoch 100/150\n",
      "135/135 [==============================] - 0s 22us/step - loss: 4.9866 - binary_accuracy: 0.8667\n",
      "Epoch 101/150\n",
      "135/135 [==============================] - 0s 19us/step - loss: 4.7031 - binary_accuracy: 0.8667\n",
      "Epoch 102/150\n",
      "135/135 [==============================] - 0s 23us/step - loss: 4.7898 - binary_accuracy: 0.8667\n",
      "Epoch 103/150\n",
      "135/135 [==============================] - 0s 22us/step - loss: 4.8246 - binary_accuracy: 0.8667\n",
      "Epoch 104/150\n",
      "135/135 [==============================] - 0s 23us/step - loss: 4.6585 - binary_accuracy: 0.8667\n",
      "Epoch 105/150\n",
      "135/135 [==============================] - 0s 22us/step - loss: 4.5299 - binary_accuracy: 0.8667\n",
      "Epoch 106/150\n",
      "135/135 [==============================] - 0s 22us/step - loss: 4.6985 - binary_accuracy: 0.8667\n",
      "Epoch 107/150\n",
      "135/135 [==============================] - 0s 32us/step - loss: 4.4787 - binary_accuracy: 0.8667\n",
      "Epoch 108/150\n",
      "135/135 [==============================] - 0s 22us/step - loss: 4.5323 - binary_accuracy: 0.8667\n",
      "Epoch 109/150\n",
      "135/135 [==============================] - 0s 26us/step - loss: 4.6052 - binary_accuracy: 0.8667\n",
      "Epoch 110/150\n",
      "135/135 [==============================] - 0s 23us/step - loss: 4.3793 - binary_accuracy: 0.8667\n",
      "Epoch 111/150\n",
      "135/135 [==============================] - 0s 22us/step - loss: 4.5029 - binary_accuracy: 0.8667\n",
      "Epoch 112/150\n",
      "135/135 [==============================] - 0s 30us/step - loss: 4.4771 - binary_accuracy: 0.8667\n",
      "Epoch 113/150\n",
      "135/135 [==============================] - 0s 30us/step - loss: 4.2918 - binary_accuracy: 0.8667\n",
      "Epoch 114/150\n",
      "135/135 [==============================] - 0s 31us/step - loss: 4.4007 - binary_accuracy: 0.8667\n",
      "Epoch 115/150\n",
      "135/135 [==============================] - 0s 31us/step - loss: 4.2995 - binary_accuracy: 0.8667\n",
      "Epoch 116/150\n",
      "135/135 [==============================] - 0s 22us/step - loss: 4.2905 - binary_accuracy: 0.8667\n",
      "Epoch 117/150\n",
      "135/135 [==============================] - 0s 35us/step - loss: 4.2579 - binary_accuracy: 0.8667\n",
      "Epoch 118/150\n",
      "135/135 [==============================] - 0s 30us/step - loss: 4.2785 - binary_accuracy: 0.8667\n",
      "Epoch 119/150\n",
      "135/135 [==============================] - 0s 22us/step - loss: 4.2515 - binary_accuracy: 0.8667\n",
      "Epoch 120/150\n",
      "135/135 [==============================] - 0s 24us/step - loss: 4.2653 - binary_accuracy: 0.8667\n",
      "Epoch 121/150\n",
      "135/135 [==============================] - 0s 30us/step - loss: 4.1180 - binary_accuracy: 0.8667\n",
      "Epoch 122/150\n",
      "135/135 [==============================] - 0s 34us/step - loss: 4.1240 - binary_accuracy: 0.8667\n",
      "Epoch 123/150\n",
      "135/135 [==============================] - 0s 22us/step - loss: 4.0734 - binary_accuracy: 0.8667\n",
      "Epoch 124/150\n",
      "135/135 [==============================] - 0s 22us/step - loss: 4.0830 - binary_accuracy: 0.8667\n",
      "Epoch 125/150\n",
      "135/135 [==============================] - 0s 31us/step - loss: 3.9558 - binary_accuracy: 0.8667\n",
      "Epoch 126/150\n",
      "135/135 [==============================] - 0s 22us/step - loss: 3.9650 - binary_accuracy: 0.8667\n",
      "Epoch 127/150\n",
      "135/135 [==============================] - 0s 23us/step - loss: 3.9144 - binary_accuracy: 0.8667\n",
      "Epoch 128/150\n",
      "135/135 [==============================] - 0s 22us/step - loss: 3.8542 - binary_accuracy: 0.8667\n",
      "Epoch 129/150\n",
      "135/135 [==============================] - 0s 26us/step - loss: 3.8660 - binary_accuracy: 0.8667\n",
      "Epoch 130/150\n",
      "135/135 [==============================] - 0s 31us/step - loss: 3.7689 - binary_accuracy: 0.8667\n",
      "Epoch 131/150\n",
      "135/135 [==============================] - 0s 30us/step - loss: 3.8126 - binary_accuracy: 0.8667\n",
      "Epoch 132/150\n",
      "135/135 [==============================] - 0s 32us/step - loss: 3.8847 - binary_accuracy: 0.8667\n",
      "Epoch 133/150\n",
      "135/135 [==============================] - 0s 30us/step - loss: 3.7636 - binary_accuracy: 0.8667\n",
      "Epoch 134/150\n",
      "135/135 [==============================] - 0s 26us/step - loss: 3.8377 - binary_accuracy: 0.8667\n",
      "Epoch 135/150\n",
      "135/135 [==============================] - 0s 22us/step - loss: 3.7700 - binary_accuracy: 0.8667\n",
      "Epoch 136/150\n",
      "135/135 [==============================] - 0s 30us/step - loss: 3.7613 - binary_accuracy: 0.8667\n",
      "Epoch 137/150\n",
      "135/135 [==============================] - 0s 30us/step - loss: 3.6955 - binary_accuracy: 0.8667\n",
      "Epoch 138/150\n",
      "135/135 [==============================] - 0s 30us/step - loss: 3.5981 - binary_accuracy: 0.8667\n",
      "Epoch 139/150\n",
      "135/135 [==============================] - 0s 24us/step - loss: 3.6443 - binary_accuracy: 0.8667\n",
      "Epoch 140/150\n",
      "135/135 [==============================] - 0s 22us/step - loss: 3.6725 - binary_accuracy: 0.8667\n",
      "Epoch 141/150\n",
      "135/135 [==============================] - 0s 26us/step - loss: 3.6017 - binary_accuracy: 0.8667\n",
      "Epoch 142/150\n",
      "135/135 [==============================] - 0s 24us/step - loss: 3.6165 - binary_accuracy: 0.8667\n",
      "Epoch 143/150\n",
      "135/135 [==============================] - 0s 22us/step - loss: 3.4665 - binary_accuracy: 0.8667\n",
      "Epoch 144/150\n",
      "135/135 [==============================] - 0s 19us/step - loss: 3.5788 - binary_accuracy: 0.8667\n",
      "Epoch 145/150\n",
      "135/135 [==============================] - 0s 22us/step - loss: 3.4229 - binary_accuracy: 0.8667\n",
      "Epoch 146/150\n"
     ]
    },
    {
     "name": "stdout",
     "output_type": "stream",
     "text": [
      "135/135 [==============================] - 0s 22us/step - loss: 3.4257 - binary_accuracy: 0.8667\n",
      "Epoch 147/150\n",
      "135/135 [==============================] - 0s 31us/step - loss: 3.4486 - binary_accuracy: 0.8667\n",
      "Epoch 148/150\n",
      "135/135 [==============================] - 0s 22us/step - loss: 3.3268 - binary_accuracy: 0.8667\n",
      "Epoch 149/150\n",
      "135/135 [==============================] - 0s 22us/step - loss: 3.4221 - binary_accuracy: 0.8667\n",
      "Epoch 150/150\n",
      "135/135 [==============================] - 0s 22us/step - loss: 3.3393 - binary_accuracy: 0.8667\n"
     ]
    }
   ],
   "source": [
    "fuzz.train_model(epochs=150)"
   ]
  },
  {
   "cell_type": "code",
   "execution_count": 7,
   "metadata": {},
   "outputs": [
    {
     "data": {
      "text/plain": [
       "[array([[ 4.340144  ,  4.9670773 ,  5.99697   ,  4.5931993 ,  6.2362003 ],\n",
       "        [ 3.3195999 ,  3.766348  ,  2.7049441 ,  3.386258  ,  2.1225896 ],\n",
       "        [ 0.9890454 ,  1.0195891 ,  5.6948314 ,  1.0000889 ,  4.897026  ],\n",
       "        [-0.36432946, -0.33744803,  2.7650352 , -0.4488991 ,  1.7654049 ]],\n",
       "       dtype=float32),\n",
       " array([[3.6639457, 3.676773 , 4.1988063, 3.7170107, 3.5357537],\n",
       "        [4.21414  , 3.9499574, 3.8005855, 3.7536545, 2.9771671],\n",
       "        [3.3514779, 3.393794 , 3.0497224, 3.4241357, 3.3027499],\n",
       "        [3.2429347, 3.2824366, 3.0316477, 3.3298666, 3.8128457]],\n",
       "       dtype=float32)]"
      ]
     },
     "execution_count": 7,
     "metadata": {},
     "output_type": "execute_result"
    }
   ],
   "source": [
    "fuzz.get_layer_weights('FuzzyRules')"
   ]
  },
  {
   "cell_type": "code",
   "execution_count": 8,
   "metadata": {},
   "outputs": [
    {
     "data": {
      "text/plain": [
       "array([[4.7, 3.2, 1.6, 0.2],\n",
       "       [5.5, 4.2, 1.4, 0.2],\n",
       "       [5.1, 2.5, 3. , 1.1],\n",
       "       [6.4, 3.2, 4.5, 1.5],\n",
       "       [4.9, 2.5, 4.5, 1.7],\n",
       "       [4.9, 3.6, 1.4, 0.1],\n",
       "       [5. , 3.5, 1.3, 0.3],\n",
       "       [6.4, 2.7, 5.3, 1.9],\n",
       "       [5. , 3. , 1.6, 0.2],\n",
       "       [5.8, 2.7, 5.1, 1.9],\n",
       "       [6.1, 2.9, 4.7, 1.4],\n",
       "       [7.7, 3. , 6.1, 2.3],\n",
       "       [5.8, 2.8, 5.1, 2.4],\n",
       "       [5. , 3.4, 1.6, 0.4],\n",
       "       [5.6, 2.7, 4.2, 1.3]])"
      ]
     },
     "execution_count": 8,
     "metadata": {},
     "output_type": "execute_result"
    }
   ],
   "source": [
    "X_test"
   ]
  },
  {
   "cell_type": "code",
   "execution_count": 9,
   "metadata": {},
   "outputs": [
    {
     "data": {
      "text/plain": [
       "array([[1., 0., 0.],\n",
       "       [1., 0., 0.],\n",
       "       [0., 1., 0.],\n",
       "       [0., 1., 0.],\n",
       "       [0., 0., 1.],\n",
       "       [1., 0., 0.],\n",
       "       [1., 0., 0.],\n",
       "       [0., 0., 1.],\n",
       "       [1., 0., 0.],\n",
       "       [0., 0., 1.],\n",
       "       [0., 1., 0.],\n",
       "       [0., 0., 1.],\n",
       "       [0., 0., 1.],\n",
       "       [1., 0., 0.],\n",
       "       [0., 1., 0.]])"
      ]
     },
     "execution_count": 9,
     "metadata": {},
     "output_type": "execute_result"
    }
   ],
   "source": [
    "y_test"
   ]
  },
  {
   "cell_type": "code",
   "execution_count": 10,
   "metadata": {},
   "outputs": [
    {
     "data": {
      "text/plain": [
       "array([[1., 0., 0.],\n",
       "       [1., 0., 0.],\n",
       "       [1., 0., 0.],\n",
       "       [0., 0., 0.],\n",
       "       [0., 0., 0.],\n",
       "       [1., 0., 0.],\n",
       "       [1., 0., 0.],\n",
       "       [0., 0., 1.],\n",
       "       [1., 0., 0.],\n",
       "       [0., 0., 1.],\n",
       "       [0., 0., 0.],\n",
       "       [0., 0., 1.],\n",
       "       [0., 0., 1.],\n",
       "       [1., 0., 0.],\n",
       "       [0., 0., 0.]], dtype=float32)"
      ]
     },
     "execution_count": 10,
     "metadata": {},
     "output_type": "execute_result"
    }
   ],
   "source": [
    "y_pred = fuzz.model.predict(X_test)\n",
    "y_pred.round()"
   ]
  },
  {
   "cell_type": "code",
   "execution_count": 11,
   "metadata": {},
   "outputs": [
    {
     "data": {
      "text/plain": [
       "array([[ True,  True,  True],\n",
       "       [ True,  True,  True],\n",
       "       [False, False,  True],\n",
       "       [ True, False,  True],\n",
       "       [ True,  True, False],\n",
       "       [ True,  True,  True],\n",
       "       [ True,  True,  True],\n",
       "       [ True,  True,  True],\n",
       "       [ True,  True,  True],\n",
       "       [ True,  True,  True],\n",
       "       [ True, False,  True],\n",
       "       [ True,  True,  True],\n",
       "       [ True,  True,  True],\n",
       "       [ True,  True,  True],\n",
       "       [ True, False,  True]])"
      ]
     },
     "execution_count": 11,
     "metadata": {},
     "output_type": "execute_result"
    }
   ],
   "source": [
    "acc = y_test == y_pred.round()\n",
    "acc"
   ]
  },
  {
   "cell_type": "code",
   "execution_count": 12,
   "metadata": {},
   "outputs": [
    {
     "data": {
      "text/plain": [
       "0.8666666666666667"
      ]
     },
     "execution_count": 12,
     "metadata": {},
     "output_type": "execute_result"
    }
   ],
   "source": [
    "acc.sum() / acc.size"
   ]
  },
  {
   "cell_type": "markdown",
   "metadata": {},
   "source": [
    "## Model Prediction Results"
   ]
  },
  {
   "cell_type": "code",
   "execution_count": 13,
   "metadata": {},
   "outputs": [
    {
     "name": "stdout",
     "output_type": "stream",
     "text": [
      "15/15 [==============================] - 0s 2ms/step\n",
      "Model Loss: 1.61509216\n",
      "Binary Accuracy: 86.7%\n"
     ]
    }
   ],
   "source": [
    "pred_loss, pred_bin_acc = fuzz.model.evaluate(X_test, y_test)\n",
    "print('Model Loss: {:0.8f}'.format(pred_loss))\n",
    "print('Binary Accuracy: {:2.1f}%'.format(100*pred_bin_acc))"
   ]
  },
  {
   "cell_type": "code",
   "execution_count": 14,
   "metadata": {},
   "outputs": [
    {
     "data": {
      "text/plain": [
       "['loss', 'binary_accuracy']"
      ]
     },
     "execution_count": 14,
     "metadata": {},
     "output_type": "execute_result"
    }
   ],
   "source": [
    "fuzz.model.metrics_names"
   ]
  },
  {
   "cell_type": "markdown",
   "metadata": {},
   "source": [
    "## Plot Results"
   ]
  },
  {
   "cell_type": "code",
   "execution_count": 15,
   "metadata": {},
   "outputs": [
    {
     "data": {
      "image/png": "[encoded data removed]",
      "text/plain": [
       "<Figure size 640x480 with 1 Axes>"
      ]
     },
     "metadata": {},
     "output_type": "display_data"
    }
   ],
   "source": [
    "w = fuzz.get_layer_weights('FuzzyRules')\n",
    "\n",
    "\n",
    "plt.clf()\n",
    "plt.title('Iris')\n",
    "plt.ylabel('x[0]')\n",
    "plt.xlabel('x[1]')\n",
    "plt.scatter([a[0] for a in X_train], [a[1] for a in X_train], color='r', alpha=0.5, s=5)\n",
    "for i in range(0,fuzz.neurons):\n",
    "    ellipse = Ellipse((w[0][0][i], w[0][1][i]), w[1][0][i],w[1][1][i], color='b', fill=False)\n",
    "    ax = plt.gca()\n",
    "    ax.add_patch(ellipse)\n",
    "\n",
    "plt.scatter(w[0][0], w[0][1], color='b', alpha=0.8, s=25, marker='x')\n",
    "plt.show()"
   ]
  }
 ],
 "metadata": {
  "kernelspec": {
   "display_name": "Python 3 (ipykernel)",
   "language": "python",
   "name": "python3"
  },
  "language_info": {
   "codemirror_mode": {
    "name": "ipython",
    "version": 3
   },
   "file_extension": ".py",
   "mimetype": "text/x-python",
   "name": "python",
   "nbconvert_exporter": "python",
   "pygments_lexer": "ipython3",
   "version": "3.7.9"
  }
 },
 "nbformat": 4,
 "nbformat_minor": 1
}
