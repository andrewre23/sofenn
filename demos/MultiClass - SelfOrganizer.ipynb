{
 "cells": [
  {
   "cell_type": "markdown",
   "metadata": {
    "collapsed": true
   },
   "source": [
    "# Iris Dataset - SOFENN Example"
   ]
  },
  {
   "cell_type": "markdown",
   "metadata": {},
   "source": [
    "Demonstrate multi-class classification with SOFENN on classic Iris Dataset"
   ]
  },
  {
   "metadata": {},
   "cell_type": "code",
   "outputs": [],
   "execution_count": null,
   "source": [
    "import sys\n",
    "sys.path.append(\"../src\")\n",
    "\n",
    "import warnings\n",
    "warnings.simplefilter(action='ignore', category=FutureWarning)"
   ]
  },
  {
   "metadata": {},
   "cell_type": "code",
   "outputs": [],
   "execution_count": null,
   "source": [
    "import numpy as np\n",
    "\n",
    "from sklearn import datasets\n",
    "from sklearn.model_selection import train_test_split\n",
    "\n",
    "import matplotlib.pyplot as plt\n",
    "from matplotlib.patches import Ellipse\n",
    "\n",
    "from sofenn import SelfOrganizer\n",
    "\n",
    "import os\n",
    "\n",
    "os.environ['KMP_DUPLICATE_LIB_OK']='True'"
   ]
  },
  {
   "cell_type": "markdown",
   "metadata": {},
   "source": [
    "## Read in and prep Iris Dataset"
   ]
  },
  {
   "cell_type": "code",
   "execution_count": 3,
   "metadata": {
    "scrolled": true
   },
   "outputs": [],
   "source": [
    "# read in iris dataset\n",
    "iris = datasets.load_iris()\n",
    "# create one-hot encoded vector for each class\n",
    "Y = []\n",
    "for y in iris.target:\n",
    "    tmp = np.zeros(3)\n",
    "    tmp[y] = 1\n",
    "    Y.append(tmp)\n",
    "Y = np.array(Y)\n",
    "    \n",
    "# split to train/test\n",
    "X_train, X_test, y_train, y_test = train_test_split(iris.data, Y, test_size=0.1)"
   ]
  },
  {
   "cell_type": "markdown",
   "metadata": {},
   "source": [
    "## Create Self Organizer"
   ]
  },
  {
   "cell_type": "code",
   "execution_count": 4,
   "metadata": {},
   "outputs": [],
   "source": [
    "sofnn = SelfOrganizer(\n",
    "             ksig=1.12, max_widens=250,          # adding neuron or widening centers\n",
    "             prune_tol=0.85, k_rmse=0.1,          # pruning parameters\n",
    "             debug=True\n",
    "                )"
   ]
  },
  {
   "cell_type": "markdown",
   "metadata": {},
   "source": [
    "### Create Network"
   ]
  },
  {
   "cell_type": "code",
   "execution_count": 5,
   "metadata": {},
   "outputs": [
    {
     "name": "stdout",
     "output_type": "stream",
     "text": [
      "Building Fuzzy Network with 5 neurons...\n",
      "WARNING:tensorflow:From C:\\Users\\Andrew\\PycharmProjects\\sofenn\\venv\\lib\\site-packages\\tensorflow\\python\\framework\\op_def_library.py:263: colocate_with (from tensorflow.python.framework.ops) is deprecated and will be removed in a future version.\n",
      "Instructions for updating:\n",
      "Colocations handled automatically by placer.\n",
      "...Model successfully built!\n"
     ]
    }
   ],
   "source": [
    "start_neurons = 5\n",
    "\n",
    "sofnn.build_network(\n",
    "                 X_train, X_test, y_train, y_test,        # data attributes\n",
    "                 neurons=start_neurons, max_neurons=100,  # neuron initialization parameters\n",
    "                 ifpart_thresh=0.1354,                    # ifpart and error thresholds\n",
    "                 prob_type='classification'               # type of problem (classification/regression)\n",
    ")\n",
    "\n",
    "network = sofnn.network"
   ]
  },
  {
   "cell_type": "markdown",
   "metadata": {},
   "source": [
    "### Compile Model"
   ]
  },
  {
   "cell_type": "code",
   "execution_count": 6,
   "metadata": {},
   "outputs": [
    {
     "name": "stdout",
     "output_type": "stream",
     "text": [
      "Compiling model...\n",
      "__________________________________________________________________________________________________\n",
      "Layer (type)                    Output Shape         Param #     Connected to                     \n",
      "==================================================================================================\n",
      "Inputs (InputLayer)             (None, 4)            0                                            \n",
      "__________________________________________________________________________________________________\n",
      "FuzzyRules (FuzzyLayer)         (None, 5)            40          Inputs[0][0]                     \n",
      "__________________________________________________________________________________________________\n",
      "Normalization (NormalizedLayer) (None, 5)            0           FuzzyRules[0][0]                 \n",
      "__________________________________________________________________________________________________\n",
      "Weights (WeightedLayer)         (None, 5)            25          Inputs[0][0]                     \n",
      "                                                                 Normalization[0][0]              \n",
      "__________________________________________________________________________________________________\n",
      "RawOutput (OutputLayer)         (None, 1)            0           Weights[0][0]                    \n",
      "__________________________________________________________________________________________________\n",
      "Softmax (Dense)                 (None, 3)            6           RawOutput[0][0]                  \n",
      "==================================================================================================\n",
      "Total params: 71\n",
      "Trainable params: 71\n",
      "Non-trainable params: 0\n",
      "__________________________________________________________________________________________________\n",
      "None\n"
     ]
    }
   ],
   "source": [
    "loss = sofnn.network.loss_function\n",
    "optimizer = 'adam'\n",
    "metrics = ['binary_accuracy']\n",
    "\n",
    "sofnn.compile_model(init_c=True, random=True, init_s=True, s_0=4.0,\n",
    "                    loss=loss, optimizer=optimizer, metrics=metrics)"
   ]
  },
  {
   "cell_type": "markdown",
   "metadata": {},
   "source": [
    "### Train model"
   ]
  },
  {
   "cell_type": "code",
   "execution_count": 7,
   "metadata": {
    "scrolled": true
   },
   "outputs": [
    {
     "name": "stdout",
     "output_type": "stream",
     "text": [
      "Training model...\n",
      "WARNING:tensorflow:From C:\\Users\\Andrew\\PycharmProjects\\sofenn\\venv\\lib\\site-packages\\tensorflow\\python\\ops\\math_ops.py:3066: to_int32 (from tensorflow.python.ops.math_ops) is deprecated and will be removed in a future version.\n",
      "Instructions for updating:\n",
      "Use tf.cast instead.\n",
      "Epoch 1/45\n",
      "135/135 [==============================] - 0s 796us/step - loss: 10.2577 - binary_accuracy: 0.6667\n",
      "Epoch 2/45\n",
      "135/135 [==============================] - 0s 28us/step - loss: 10.2379 - binary_accuracy: 0.6667\n",
      "Epoch 3/45\n",
      "135/135 [==============================] - 0s 30us/step - loss: 10.2123 - binary_accuracy: 0.6667\n",
      "Epoch 4/45\n",
      "135/135 [==============================] - 0s 35us/step - loss: 10.1920 - binary_accuracy: 0.6667\n",
      "Epoch 5/45\n",
      "135/135 [==============================] - 0s 30us/step - loss: 10.1726 - binary_accuracy: 0.6667\n",
      "Epoch 6/45\n",
      "135/135 [==============================] - 0s 27us/step - loss: 10.1481 - binary_accuracy: 0.6667\n",
      "Epoch 7/45\n",
      "135/135 [==============================] - 0s 30us/step - loss: 10.1184 - binary_accuracy: 0.6667\n",
      "Epoch 8/45\n",
      "135/135 [==============================] - 0s 24us/step - loss: 10.0903 - binary_accuracy: 0.6667\n",
      "Epoch 9/45\n",
      "135/135 [==============================] - 0s 32us/step - loss: 10.0566 - binary_accuracy: 0.6667\n",
      "Epoch 10/45\n",
      "135/135 [==============================] - 0s 44us/step - loss: 10.0185 - binary_accuracy: 0.6667\n",
      "Epoch 11/45\n",
      "135/135 [==============================] - 0s 37us/step - loss: 9.9807 - binary_accuracy: 0.6667\n",
      "Epoch 12/45\n",
      "135/135 [==============================] - 0s 27us/step - loss: 9.9378 - binary_accuracy: 0.6667\n",
      "Epoch 13/45\n",
      "135/135 [==============================] - 0s 22us/step - loss: 9.8921 - binary_accuracy: 0.6667\n",
      "Epoch 14/45\n",
      "135/135 [==============================] - 0s 30us/step - loss: 9.8396 - binary_accuracy: 0.6667\n",
      "Epoch 15/45\n",
      "135/135 [==============================] - 0s 30us/step - loss: 9.7839 - binary_accuracy: 0.6667\n",
      "Epoch 16/45\n",
      "135/135 [==============================] - 0s 33us/step - loss: 9.7369 - binary_accuracy: 0.6667\n",
      "Epoch 17/45\n",
      "135/135 [==============================] - 0s 24us/step - loss: 9.6774 - binary_accuracy: 0.6667\n",
      "Epoch 18/45\n",
      "135/135 [==============================] - 0s 22us/step - loss: 9.6263 - binary_accuracy: 0.6667\n",
      "Epoch 19/45\n",
      "135/135 [==============================] - 0s 32us/step - loss: 9.5407 - binary_accuracy: 0.6667\n",
      "Epoch 20/45\n",
      "135/135 [==============================] - 0s 30us/step - loss: 9.4793 - binary_accuracy: 0.6667\n",
      "Epoch 21/45\n",
      "135/135 [==============================] - 0s 26us/step - loss: 9.4169 - binary_accuracy: 0.6667\n",
      "Epoch 22/45\n",
      "135/135 [==============================] - 0s 23us/step - loss: 9.3203 - binary_accuracy: 0.6667\n",
      "Epoch 23/45\n",
      "135/135 [==============================] - 0s 22us/step - loss: 9.2451 - binary_accuracy: 0.6667\n",
      "Epoch 24/45\n",
      "135/135 [==============================] - 0s 27us/step - loss: 9.1472 - binary_accuracy: 0.6667\n",
      "Epoch 25/45\n",
      "135/135 [==============================] - 0s 22us/step - loss: 9.0636 - binary_accuracy: 0.6667\n",
      "Epoch 26/45\n",
      "135/135 [==============================] - 0s 15us/step - loss: 8.9787 - binary_accuracy: 0.6667\n",
      "Epoch 27/45\n",
      "135/135 [==============================] - 0s 26us/step - loss: 8.8973 - binary_accuracy: 0.6667\n",
      "Epoch 28/45\n",
      "135/135 [==============================] - 0s 22us/step - loss: 8.8186 - binary_accuracy: 0.6667\n",
      "Epoch 29/45\n",
      "135/135 [==============================] - 0s 31us/step - loss: 8.7340 - binary_accuracy: 0.6667\n",
      "Epoch 30/45\n",
      "135/135 [==============================] - 0s 22us/step - loss: 8.6024 - binary_accuracy: 0.6667\n",
      "Epoch 31/45\n",
      "135/135 [==============================] - 0s 22us/step - loss: 8.5149 - binary_accuracy: 0.6667\n",
      "Epoch 32/45\n",
      "135/135 [==============================] - 0s 29us/step - loss: 8.4095 - binary_accuracy: 0.6667\n",
      "Epoch 33/45\n",
      "135/135 [==============================] - 0s 22us/step - loss: 8.3260 - binary_accuracy: 0.6691\n",
      "Epoch 34/45\n",
      "135/135 [==============================] - 0s 22us/step - loss: 8.1709 - binary_accuracy: 0.6741\n",
      "Epoch 35/45\n",
      "135/135 [==============================] - 0s 24us/step - loss: 8.0990 - binary_accuracy: 0.6765\n",
      "Epoch 36/45\n",
      "135/135 [==============================] - 0s 22us/step - loss: 7.9640 - binary_accuracy: 0.6840\n",
      "Epoch 37/45\n",
      "135/135 [==============================] - 0s 23us/step - loss: 7.8643 - binary_accuracy: 0.6864\n",
      "Epoch 38/45\n",
      "135/135 [==============================] - 0s 22us/step - loss: 7.7705 - binary_accuracy: 0.6914\n",
      "Epoch 39/45\n",
      "135/135 [==============================] - 0s 22us/step - loss: 7.6529 - binary_accuracy: 0.7037\n",
      "Epoch 40/45\n",
      "135/135 [==============================] - 0s 24us/step - loss: 7.5917 - binary_accuracy: 0.7235\n",
      "Epoch 41/45\n",
      "135/135 [==============================] - 0s 30us/step - loss: 7.4358 - binary_accuracy: 0.7704\n",
      "Epoch 42/45\n",
      "135/135 [==============================] - 0s 27us/step - loss: 7.2305 - binary_accuracy: 0.8025\n",
      "Epoch 43/45\n",
      "135/135 [==============================] - 0s 22us/step - loss: 7.2741 - binary_accuracy: 0.8272\n",
      "Epoch 44/45\n",
      "135/135 [==============================] - 0s 30us/step - loss: 7.0676 - binary_accuracy: 0.8469\n",
      "Epoch 45/45\n",
      "135/135 [==============================] - 0s 28us/step - loss: 7.0479 - binary_accuracy: 0.8543\n"
     ]
    }
   ],
   "source": [
    "sofnn.train_model(epochs=45)"
   ]
  },
  {
   "cell_type": "code",
   "execution_count": null,
   "metadata": {},
   "outputs": [],
   "source": []
  },
  {
   "cell_type": "code",
   "execution_count": null,
   "metadata": {},
   "outputs": [],
   "source": []
  },
  {
   "cell_type": "code",
   "execution_count": 8,
   "metadata": {
    "scrolled": true
   },
   "outputs": [
    {
     "name": "stdout",
     "output_type": "stream",
     "text": [
      "Epoch 1/250\n",
      "135/135 [==============================] - 0s 1ms/step - loss: 0.4268 - binary_accuracy: 0.8716\n",
      "Epoch 2/250\n",
      "135/135 [==============================] - 0s 247us/step - loss: 0.3859 - binary_accuracy: 0.8765\n",
      "Epoch 3/250\n",
      "135/135 [==============================] - 0s 241us/step - loss: 0.3514 - binary_accuracy: 0.8716\n",
      "Epoch 4/250\n",
      "135/135 [==============================] - 0s 241us/step - loss: 0.3279 - binary_accuracy: 0.8519\n",
      "Epoch 5/250\n",
      "135/135 [==============================] - 0s 250us/step - loss: 0.3134 - binary_accuracy: 0.8593\n",
      "Epoch 6/250\n",
      "135/135 [==============================] - 0s 220us/step - loss: 0.2993 - binary_accuracy: 0.8568\n",
      "Epoch 7/250\n",
      "135/135 [==============================] - 0s 235us/step - loss: 0.2896 - binary_accuracy: 0.8593\n",
      "Epoch 8/250\n",
      "135/135 [==============================] - 0s 259us/step - loss: 0.2815 - binary_accuracy: 0.8420\n",
      "Epoch 9/250\n",
      "135/135 [==============================] - 0s 236us/step - loss: 0.2763 - binary_accuracy: 0.8519\n",
      "Epoch 10/250\n",
      "135/135 [==============================] - 0s 218us/step - loss: 0.2699 - binary_accuracy: 0.8519\n",
      "Epoch 11/250\n",
      "135/135 [==============================] - 0s 228us/step - loss: 0.2633 - binary_accuracy: 0.8494\n",
      "Epoch 12/250\n",
      "135/135 [==============================] - 0s 241us/step - loss: 0.2582 - binary_accuracy: 0.8543\n",
      "Epoch 13/250\n",
      "135/135 [==============================] - 0s 241us/step - loss: 0.2512 - binary_accuracy: 0.8568\n",
      "Epoch 14/250\n",
      "135/135 [==============================] - 0s 245us/step - loss: 0.2453 - binary_accuracy: 0.8593\n",
      "Epoch 15/250\n",
      "135/135 [==============================] - 0s 246us/step - loss: 0.2394 - binary_accuracy: 0.8543\n",
      "Epoch 16/250\n",
      "135/135 [==============================] - 0s 241us/step - loss: 0.2345 - binary_accuracy: 0.8593\n",
      "Epoch 17/250\n",
      "135/135 [==============================] - 0s 259us/step - loss: 0.2278 - binary_accuracy: 0.8667\n",
      "Epoch 18/250\n",
      "135/135 [==============================] - 0s 275us/step - loss: 0.2226 - binary_accuracy: 0.8568\n",
      "Epoch 19/250\n",
      "135/135 [==============================] - 0s 292us/step - loss: 0.2156 - binary_accuracy: 0.8617\n",
      "Epoch 20/250\n",
      "135/135 [==============================] - 0s 318us/step - loss: 0.2121 - binary_accuracy: 0.8691\n",
      "Epoch 21/250\n",
      "135/135 [==============================] - 0s 289us/step - loss: 0.2080 - binary_accuracy: 0.8988\n",
      "Epoch 22/250\n",
      "135/135 [==============================] - 0s 294us/step - loss: 0.2022 - binary_accuracy: 0.9037\n",
      "Epoch 23/250\n",
      "135/135 [==============================] - 0s 285us/step - loss: 0.1949 - binary_accuracy: 0.9136\n",
      "Epoch 24/250\n",
      "135/135 [==============================] - 0s 290us/step - loss: 0.1927 - binary_accuracy: 0.9284\n",
      "Epoch 25/250\n",
      "135/135 [==============================] - 0s 280us/step - loss: 0.1862 - binary_accuracy: 0.9358\n",
      "Epoch 26/250\n",
      "135/135 [==============================] - 0s 292us/step - loss: 0.1828 - binary_accuracy: 0.9457\n",
      "Epoch 27/250\n",
      "135/135 [==============================] - 0s 302us/step - loss: 0.1776 - binary_accuracy: 0.9481\n",
      "Epoch 28/250\n",
      "135/135 [==============================] - 0s 272us/step - loss: 0.1730 - binary_accuracy: 0.9432\n",
      "Epoch 29/250\n",
      "135/135 [==============================] - 0s 269us/step - loss: 0.1690 - binary_accuracy: 0.9506\n",
      "Epoch 30/250\n",
      "135/135 [==============================] - 0s 262us/step - loss: 0.1645 - binary_accuracy: 0.9481\n",
      "Epoch 31/250\n",
      "135/135 [==============================] - 0s 253us/step - loss: 0.1604 - binary_accuracy: 0.9556\n",
      "Epoch 32/250\n",
      "135/135 [==============================] - 0s 244us/step - loss: 0.1567 - binary_accuracy: 0.9605\n",
      "Epoch 33/250\n",
      "135/135 [==============================] - 0s 260us/step - loss: 0.1517 - binary_accuracy: 0.9630\n",
      "Epoch 34/250\n",
      "135/135 [==============================] - 0s 238us/step - loss: 0.1477 - binary_accuracy: 0.9654\n",
      "Epoch 35/250\n",
      "135/135 [==============================] - 0s 261us/step - loss: 0.1445 - binary_accuracy: 0.9630\n",
      "Epoch 36/250\n",
      "135/135 [==============================] - 0s 258us/step - loss: 0.1405 - binary_accuracy: 0.9679\n",
      "Epoch 37/250\n",
      "135/135 [==============================] - 0s 231us/step - loss: 0.1365 - binary_accuracy: 0.9630\n",
      "Epoch 38/250\n",
      "135/135 [==============================] - 0s 225us/step - loss: 0.1313 - binary_accuracy: 0.9654\n",
      "Epoch 39/250\n",
      "135/135 [==============================] - 0s 230us/step - loss: 0.1293 - binary_accuracy: 0.9753\n",
      "Epoch 40/250\n",
      "135/135 [==============================] - 0s 263us/step - loss: 0.1265 - binary_accuracy: 0.9728\n",
      "Epoch 41/250\n",
      "135/135 [==============================] - 0s 245us/step - loss: 0.1198 - binary_accuracy: 0.9753\n",
      "Epoch 42/250\n",
      "135/135 [==============================] - 0s 232us/step - loss: 0.1199 - binary_accuracy: 0.9753\n",
      "Epoch 43/250\n",
      "135/135 [==============================] - 0s 247us/step - loss: 0.1167 - binary_accuracy: 0.9704\n",
      "Epoch 44/250\n",
      "135/135 [==============================] - 0s 263us/step - loss: 0.1137 - binary_accuracy: 0.9778\n",
      "Epoch 45/250\n",
      "135/135 [==============================] - 0s 266us/step - loss: 0.1106 - binary_accuracy: 0.9802\n",
      "Epoch 46/250\n",
      "135/135 [==============================] - 0s 258us/step - loss: 0.1088 - binary_accuracy: 0.9778\n",
      "Epoch 47/250\n",
      "135/135 [==============================] - 0s 249us/step - loss: 0.1064 - binary_accuracy: 0.9778\n",
      "Epoch 48/250\n",
      "135/135 [==============================] - 0s 235us/step - loss: 0.1035 - binary_accuracy: 0.9753\n",
      "Epoch 49/250\n",
      "135/135 [==============================] - 0s 236us/step - loss: 0.1003 - binary_accuracy: 0.9778\n",
      "Epoch 50/250\n",
      "135/135 [==============================] - 0s 259us/step - loss: 0.0989 - binary_accuracy: 0.9778\n",
      "Epoch 51/250\n",
      "135/135 [==============================] - 0s 261us/step - loss: 0.0959 - binary_accuracy: 0.9778\n",
      "Epoch 52/250\n",
      "135/135 [==============================] - 0s 263us/step - loss: 0.0933 - binary_accuracy: 0.9753\n",
      "Epoch 53/250\n",
      "135/135 [==============================] - 0s 258us/step - loss: 0.0924 - binary_accuracy: 0.9778\n",
      "Epoch 54/250\n",
      "135/135 [==============================] - 0s 235us/step - loss: 0.0905 - binary_accuracy: 0.9802\n",
      "Epoch 55/250\n",
      "135/135 [==============================] - 0s 247us/step - loss: 0.0889 - binary_accuracy: 0.9778\n",
      "Epoch 56/250\n",
      "135/135 [==============================] - 0s 236us/step - loss: 0.0856 - binary_accuracy: 0.9802\n",
      "Epoch 57/250\n",
      "135/135 [==============================] - 0s 235us/step - loss: 0.0837 - binary_accuracy: 0.9802\n",
      "Epoch 58/250\n",
      "135/135 [==============================] - 0s 241us/step - loss: 0.0829 - binary_accuracy: 0.9753\n",
      "Epoch 59/250\n",
      "135/135 [==============================] - 0s 260us/step - loss: 0.0808 - binary_accuracy: 0.9753\n",
      "Epoch 60/250\n",
      "135/135 [==============================] - 0s 255us/step - loss: 0.0805 - binary_accuracy: 0.9753\n",
      "Epoch 61/250\n",
      "135/135 [==============================] - 0s 220us/step - loss: 0.0782 - binary_accuracy: 0.9753\n",
      "Epoch 62/250\n",
      "135/135 [==============================] - 0s 229us/step - loss: 0.0762 - binary_accuracy: 0.9802\n",
      "Epoch 63/250\n",
      "135/135 [==============================] - 0s 233us/step - loss: 0.0749 - binary_accuracy: 0.9802\n",
      "Epoch 64/250\n",
      "135/135 [==============================] - 0s 237us/step - loss: 0.0737 - binary_accuracy: 0.9852\n",
      "Epoch 65/250\n",
      "135/135 [==============================] - 0s 261us/step - loss: 0.0728 - binary_accuracy: 0.9802\n",
      "Epoch 66/250\n",
      "135/135 [==============================] - 0s 244us/step - loss: 0.0692 - binary_accuracy: 0.9753\n",
      "Epoch 67/250\n",
      "135/135 [==============================] - 0s 236us/step - loss: 0.0704 - binary_accuracy: 0.9802\n",
      "Epoch 68/250\n",
      "135/135 [==============================] - 0s 255us/step - loss: 0.0691 - binary_accuracy: 0.9852\n",
      "Epoch 69/250\n",
      "135/135 [==============================] - 0s 253us/step - loss: 0.0685 - binary_accuracy: 0.9827\n",
      "Epoch 70/250\n",
      "135/135 [==============================] - 0s 249us/step - loss: 0.0671 - binary_accuracy: 0.9852\n",
      "Epoch 71/250\n",
      "135/135 [==============================] - 0s 242us/step - loss: 0.0654 - binary_accuracy: 0.9802\n",
      "Epoch 72/250\n",
      "135/135 [==============================] - 0s 237us/step - loss: 0.0644 - binary_accuracy: 0.9852\n",
      "Epoch 73/250\n",
      "135/135 [==============================] - 0s 265us/step - loss: 0.0635 - binary_accuracy: 0.9852\n",
      "Epoch 74/250\n"
     ]
    },
    {
     "name": "stdout",
     "output_type": "stream",
     "text": [
      "135/135 [==============================] - 0s 266us/step - loss: 0.0651 - binary_accuracy: 0.9852\n",
      "Epoch 75/250\n",
      "135/135 [==============================] - 0s 278us/step - loss: 0.0613 - binary_accuracy: 0.9827\n",
      "Epoch 76/250\n",
      "135/135 [==============================] - 0s 265us/step - loss: 0.0607 - binary_accuracy: 0.9827\n",
      "Epoch 77/250\n",
      "135/135 [==============================] - 0s 253us/step - loss: 0.0606 - binary_accuracy: 0.9852\n",
      "Epoch 78/250\n",
      "135/135 [==============================] - 0s 263us/step - loss: 0.0591 - binary_accuracy: 0.9802\n",
      "Epoch 79/250\n",
      "135/135 [==============================] - 0s 255us/step - loss: 0.0594 - binary_accuracy: 0.9827\n",
      "Epoch 80/250\n",
      "135/135 [==============================] - 0s 255us/step - loss: 0.0595 - binary_accuracy: 0.9753\n",
      "Epoch 81/250\n",
      "135/135 [==============================] - 0s 263us/step - loss: 0.0572 - binary_accuracy: 0.9852\n",
      "Epoch 82/250\n",
      "135/135 [==============================] - 0s 259us/step - loss: 0.0567 - binary_accuracy: 0.9852\n",
      "Epoch 83/250\n",
      "135/135 [==============================] - 0s 252us/step - loss: 0.0555 - binary_accuracy: 0.9802\n",
      "Epoch 84/250\n",
      "135/135 [==============================] - 0s 250us/step - loss: 0.0554 - binary_accuracy: 0.9852\n",
      "Epoch 85/250\n",
      "135/135 [==============================] - 0s 258us/step - loss: 0.0562 - binary_accuracy: 0.9852\n",
      "Epoch 86/250\n",
      "135/135 [==============================] - 0s 243us/step - loss: 0.0545 - binary_accuracy: 0.9852\n",
      "Epoch 87/250\n",
      "135/135 [==============================] - 0s 237us/step - loss: 0.0538 - binary_accuracy: 0.9802\n",
      "Epoch 88/250\n",
      "135/135 [==============================] - 0s 248us/step - loss: 0.0536 - binary_accuracy: 0.9827\n",
      "Epoch 89/250\n",
      "135/135 [==============================] - 0s 249us/step - loss: 0.0527 - binary_accuracy: 0.9827\n",
      "Epoch 90/250\n",
      "135/135 [==============================] - 0s 253us/step - loss: 0.0522 - binary_accuracy: 0.9852\n",
      "Epoch 91/250\n",
      "135/135 [==============================] - 0s 246us/step - loss: 0.0521 - binary_accuracy: 0.9852\n",
      "Epoch 92/250\n",
      "135/135 [==============================] - 0s 258us/step - loss: 0.0513 - binary_accuracy: 0.9802\n",
      "Epoch 93/250\n",
      "135/135 [==============================] - 0s 298us/step - loss: 0.0515 - binary_accuracy: 0.9852\n",
      "Epoch 94/250\n",
      "135/135 [==============================] - 0s 255us/step - loss: 0.0504 - binary_accuracy: 0.9802\n",
      "Epoch 95/250\n",
      "135/135 [==============================] - 0s 257us/step - loss: 0.0493 - binary_accuracy: 0.9827\n",
      "Epoch 96/250\n",
      "135/135 [==============================] - 0s 256us/step - loss: 0.0501 - binary_accuracy: 0.9852\n",
      "Epoch 97/250\n",
      "135/135 [==============================] - 0s 271us/step - loss: 0.0474 - binary_accuracy: 0.9852\n",
      "Epoch 98/250\n",
      "135/135 [==============================] - 0s 248us/step - loss: 0.0493 - binary_accuracy: 0.9852\n",
      "Epoch 99/250\n",
      "135/135 [==============================] - 0s 241us/step - loss: 0.0481 - binary_accuracy: 0.9852\n",
      "Epoch 100/250\n",
      "135/135 [==============================] - 0s 251us/step - loss: 0.0474 - binary_accuracy: 0.9852\n",
      "Epoch 101/250\n",
      "135/135 [==============================] - 0s 248us/step - loss: 0.0491 - binary_accuracy: 0.9802\n",
      "Epoch 102/250\n",
      "135/135 [==============================] - 0s 238us/step - loss: 0.0476 - binary_accuracy: 0.9852\n",
      "Epoch 103/250\n",
      "135/135 [==============================] - 0s 253us/step - loss: 0.0464 - binary_accuracy: 0.9852\n",
      "Epoch 104/250\n",
      "135/135 [==============================] - 0s 271us/step - loss: 0.0473 - binary_accuracy: 0.9951\n",
      "Epoch 105/250\n",
      "135/135 [==============================] - 0s 265us/step - loss: 0.0473 - binary_accuracy: 0.9827\n",
      "Epoch 106/250\n",
      "135/135 [==============================] - 0s 262us/step - loss: 0.0456 - binary_accuracy: 0.9852\n",
      "Epoch 107/250\n",
      "135/135 [==============================] - 0s 257us/step - loss: 0.0459 - binary_accuracy: 0.9852\n",
      "Epoch 108/250\n",
      "135/135 [==============================] - 0s 295us/step - loss: 0.0474 - binary_accuracy: 0.9802\n",
      "Epoch 109/250\n",
      "135/135 [==============================] - 0s 298us/step - loss: 0.0474 - binary_accuracy: 0.9852\n",
      "Epoch 110/250\n",
      "135/135 [==============================] - 0s 301us/step - loss: 0.0454 - binary_accuracy: 0.9802\n",
      "Epoch 111/250\n",
      "135/135 [==============================] - 0s 285us/step - loss: 0.0450 - binary_accuracy: 0.9852\n",
      "Epoch 112/250\n",
      "135/135 [==============================] - 0s 306us/step - loss: 0.0456 - binary_accuracy: 0.9901\n",
      "Epoch 113/250\n",
      "135/135 [==============================] - 0s 302us/step - loss: 0.0444 - binary_accuracy: 0.9852\n",
      "Epoch 114/250\n",
      "135/135 [==============================] - 0s 292us/step - loss: 0.0445 - binary_accuracy: 0.9852\n",
      "Epoch 115/250\n",
      "135/135 [==============================] - 0s 297us/step - loss: 0.0431 - binary_accuracy: 0.9901\n",
      "Epoch 116/250\n",
      "135/135 [==============================] - 0s 282us/step - loss: 0.0430 - binary_accuracy: 0.9951\n",
      "Epoch 117/250\n",
      "135/135 [==============================] - 0s 289us/step - loss: 0.0429 - binary_accuracy: 0.9901\n",
      "Epoch 118/250\n",
      "135/135 [==============================] - 0s 282us/step - loss: 0.0427 - binary_accuracy: 0.9951\n",
      "Epoch 119/250\n",
      "135/135 [==============================] - 0s 277us/step - loss: 0.0436 - binary_accuracy: 0.9901\n",
      "Epoch 120/250\n",
      "135/135 [==============================] - 0s 294us/step - loss: 0.0392 - binary_accuracy: 0.9877\n",
      "Epoch 121/250\n",
      "135/135 [==============================] - 0s 282us/step - loss: 0.0419 - binary_accuracy: 0.9877\n",
      "Epoch 122/250\n",
      "135/135 [==============================] - 0s 303us/step - loss: 0.0417 - binary_accuracy: 0.9852\n",
      "Epoch 123/250\n",
      "135/135 [==============================] - 0s 273us/step - loss: 0.0418 - binary_accuracy: 0.9877\n",
      "Epoch 124/250\n",
      "135/135 [==============================] - 0s 254us/step - loss: 0.0424 - binary_accuracy: 0.9827\n",
      "Epoch 125/250\n",
      "135/135 [==============================] - 0s 237us/step - loss: 0.0414 - binary_accuracy: 0.9901\n",
      "Epoch 126/250\n",
      "135/135 [==============================] - 0s 253us/step - loss: 0.0410 - binary_accuracy: 0.9852\n",
      "Epoch 127/250\n",
      "135/135 [==============================] - 0s 249us/step - loss: 0.0431 - binary_accuracy: 0.9802\n",
      "Epoch 128/250\n",
      "135/135 [==============================] - 0s 267us/step - loss: 0.0415 - binary_accuracy: 0.9852\n",
      "Epoch 129/250\n",
      "135/135 [==============================] - 0s 275us/step - loss: 0.0408 - binary_accuracy: 0.9901\n",
      "Epoch 130/250\n",
      "135/135 [==============================] - 0s 269us/step - loss: 0.0410 - binary_accuracy: 0.9852\n",
      "Epoch 131/250\n",
      "135/135 [==============================] - 0s 243us/step - loss: 0.0417 - binary_accuracy: 0.9802\n",
      "Epoch 132/250\n",
      "135/135 [==============================] - 0s 229us/step - loss: 0.0408 - binary_accuracy: 0.9852\n",
      "Epoch 133/250\n",
      "135/135 [==============================] - 0s 220us/step - loss: 0.0406 - binary_accuracy: 0.9852\n",
      "Epoch 134/250\n",
      "135/135 [==============================] - 0s 239us/step - loss: 0.0390 - binary_accuracy: 0.9901\n",
      "Epoch 135/250\n",
      "135/135 [==============================] - 0s 253us/step - loss: 0.0419 - binary_accuracy: 0.9802\n",
      "Epoch 136/250\n",
      "135/135 [==============================] - 0s 258us/step - loss: 0.0405 - binary_accuracy: 0.9802\n",
      "Epoch 137/250\n",
      "135/135 [==============================] - 0s 245us/step - loss: 0.0397 - binary_accuracy: 0.9901\n",
      "Epoch 138/250\n",
      "135/135 [==============================] - 0s 237us/step - loss: 0.0395 - binary_accuracy: 0.9901\n",
      "Epoch 139/250\n",
      "135/135 [==============================] - 0s 236us/step - loss: 0.0391 - binary_accuracy: 0.9901\n",
      "Epoch 140/250\n",
      "135/135 [==============================] - 0s 222us/step - loss: 0.0391 - binary_accuracy: 0.9901\n",
      "Epoch 141/250\n",
      "135/135 [==============================] - 0s 231us/step - loss: 0.0389 - binary_accuracy: 0.9852\n",
      "Epoch 142/250\n",
      "135/135 [==============================] - 0s 233us/step - loss: 0.0384 - binary_accuracy: 0.9901\n",
      "Epoch 143/250\n",
      "135/135 [==============================] - 0s 225us/step - loss: 0.0385 - binary_accuracy: 0.9852\n",
      "Epoch 144/250\n",
      "135/135 [==============================] - 0s 216us/step - loss: 0.0387 - binary_accuracy: 0.9852\n",
      "Epoch 145/250\n",
      "135/135 [==============================] - 0s 213us/step - loss: 0.0384 - binary_accuracy: 0.9951\n",
      "Epoch 146/250\n",
      "135/135 [==============================] - 0s 214us/step - loss: 0.0381 - binary_accuracy: 0.9951\n",
      "Epoch 147/250\n"
     ]
    },
    {
     "name": "stdout",
     "output_type": "stream",
     "text": [
      "135/135 [==============================] - 0s 231us/step - loss: 0.0350 - binary_accuracy: 0.9852\n",
      "Epoch 148/250\n",
      "135/135 [==============================] - 0s 242us/step - loss: 0.0370 - binary_accuracy: 0.9951\n",
      "Epoch 149/250\n",
      "135/135 [==============================] - 0s 225us/step - loss: 0.0363 - binary_accuracy: 0.9901\n",
      "Epoch 150/250\n",
      "135/135 [==============================] - 0s 224us/step - loss: 0.0366 - binary_accuracy: 0.9951\n",
      "Epoch 151/250\n",
      "135/135 [==============================] - 0s 219us/step - loss: 0.0380 - binary_accuracy: 0.9901\n",
      "Epoch 152/250\n",
      "135/135 [==============================] - 0s 215us/step - loss: 0.0376 - binary_accuracy: 0.9901\n",
      "Epoch 153/250\n",
      "135/135 [==============================] - 0s 216us/step - loss: 0.0394 - binary_accuracy: 0.9802\n",
      "Epoch 154/250\n",
      "135/135 [==============================] - 0s 214us/step - loss: 0.0382 - binary_accuracy: 0.9901\n",
      "Epoch 155/250\n",
      "135/135 [==============================] - 0s 220us/step - loss: 0.0375 - binary_accuracy: 0.9852\n",
      "Epoch 156/250\n",
      "135/135 [==============================] - 0s 229us/step - loss: 0.0372 - binary_accuracy: 0.9901\n",
      "Epoch 157/250\n",
      "135/135 [==============================] - 0s 246us/step - loss: 0.0378 - binary_accuracy: 0.9901\n",
      "Epoch 158/250\n",
      "135/135 [==============================] - 0s 238us/step - loss: 0.0376 - binary_accuracy: 0.9852\n",
      "Epoch 159/250\n",
      "135/135 [==============================] - 0s 209us/step - loss: 0.0370 - binary_accuracy: 0.9852\n",
      "Epoch 160/250\n",
      "135/135 [==============================] - 0s 223us/step - loss: 0.0372 - binary_accuracy: 0.9901\n",
      "Epoch 161/250\n",
      "135/135 [==============================] - 0s 218us/step - loss: 0.0370 - binary_accuracy: 0.9877\n",
      "Epoch 162/250\n",
      "135/135 [==============================] - 0s 213us/step - loss: 0.0368 - binary_accuracy: 0.9877\n",
      "Epoch 163/250\n",
      "135/135 [==============================] - 0s 209us/step - loss: 0.0361 - binary_accuracy: 0.9901\n",
      "Epoch 164/250\n",
      "135/135 [==============================] - 0s 216us/step - loss: 0.0370 - binary_accuracy: 0.9852\n",
      "Epoch 165/250\n",
      "135/135 [==============================] - 0s 221us/step - loss: 0.0375 - binary_accuracy: 0.9901\n",
      "Epoch 166/250\n",
      "135/135 [==============================] - 0s 245us/step - loss: 0.0372 - binary_accuracy: 0.9901\n",
      "Epoch 167/250\n",
      "135/135 [==============================] - 0s 213us/step - loss: 0.0370 - binary_accuracy: 0.9901\n",
      "Epoch 168/250\n",
      "135/135 [==============================] - 0s 217us/step - loss: 0.0364 - binary_accuracy: 0.9901\n",
      "Epoch 169/250\n",
      "135/135 [==============================] - 0s 227us/step - loss: 0.0357 - binary_accuracy: 0.9901\n",
      "Epoch 170/250\n",
      "135/135 [==============================] - 0s 216us/step - loss: 0.0371 - binary_accuracy: 0.9852\n",
      "Epoch 171/250\n",
      "135/135 [==============================] - 0s 222us/step - loss: 0.0361 - binary_accuracy: 0.9901\n",
      "Epoch 172/250\n",
      "135/135 [==============================] - 0s 217us/step - loss: 0.0350 - binary_accuracy: 0.9901\n",
      "Epoch 173/250\n",
      "135/135 [==============================] - 0s 219us/step - loss: 0.0363 - binary_accuracy: 0.9877\n",
      "Epoch 174/250\n",
      "135/135 [==============================] - 0s 240us/step - loss: 0.0363 - binary_accuracy: 0.9901\n",
      "Epoch 175/250\n",
      "135/135 [==============================] - 0s 272us/step - loss: 0.0356 - binary_accuracy: 0.9901\n",
      "Epoch 176/250\n",
      "135/135 [==============================] - 0s 238us/step - loss: 0.0359 - binary_accuracy: 0.9901\n",
      "Epoch 177/250\n",
      "135/135 [==============================] - 0s 250us/step - loss: 0.0356 - binary_accuracy: 0.9901\n",
      "Epoch 178/250\n",
      "135/135 [==============================] - 0s 241us/step - loss: 0.0367 - binary_accuracy: 0.9901\n",
      "Epoch 179/250\n",
      "135/135 [==============================] - 0s 224us/step - loss: 0.0359 - binary_accuracy: 0.9852\n",
      "Epoch 180/250\n",
      "135/135 [==============================] - 0s 226us/step - loss: 0.0364 - binary_accuracy: 0.9852\n",
      "Epoch 181/250\n",
      "135/135 [==============================] - 0s 222us/step - loss: 0.0353 - binary_accuracy: 0.9901\n",
      "Epoch 182/250\n",
      "135/135 [==============================] - 0s 245us/step - loss: 0.0361 - binary_accuracy: 0.9852\n",
      "Epoch 183/250\n",
      "135/135 [==============================] - 0s 251us/step - loss: 0.0352 - binary_accuracy: 0.9901\n",
      "Epoch 184/250\n",
      "135/135 [==============================] - 0s 236us/step - loss: 0.0349 - binary_accuracy: 0.9901\n",
      "Epoch 185/250\n",
      "135/135 [==============================] - 0s 230us/step - loss: 0.0368 - binary_accuracy: 0.9852\n",
      "Epoch 186/250\n",
      "135/135 [==============================] - 0s 222us/step - loss: 0.0354 - binary_accuracy: 0.9901\n",
      "Epoch 187/250\n",
      "135/135 [==============================] - 0s 222us/step - loss: 0.0355 - binary_accuracy: 0.9901\n",
      "Epoch 188/250\n",
      "135/135 [==============================] - 0s 227us/step - loss: 0.0359 - binary_accuracy: 0.9901\n",
      "Epoch 189/250\n",
      "135/135 [==============================] - 0s 232us/step - loss: 0.0355 - binary_accuracy: 0.9852\n",
      "Epoch 190/250\n",
      "135/135 [==============================] - 0s 224us/step - loss: 0.0358 - binary_accuracy: 0.9901\n",
      "Epoch 191/250\n",
      "135/135 [==============================] - 0s 230us/step - loss: 0.0344 - binary_accuracy: 0.9901\n",
      "Epoch 192/250\n",
      "135/135 [==============================] - 0s 264us/step - loss: 0.0368 - binary_accuracy: 0.9852\n",
      "Epoch 193/250\n",
      "135/135 [==============================] - 0s 238us/step - loss: 0.0371 - binary_accuracy: 0.9802\n",
      "Epoch 194/250\n",
      "135/135 [==============================] - 0s 218us/step - loss: 0.0356 - binary_accuracy: 0.9901\n",
      "Epoch 195/250\n",
      "135/135 [==============================] - 0s 222us/step - loss: 0.0366 - binary_accuracy: 0.9852\n",
      "Epoch 196/250\n",
      "135/135 [==============================] - 0s 215us/step - loss: 0.0346 - binary_accuracy: 0.9901\n",
      "Epoch 197/250\n",
      "135/135 [==============================] - 0s 240us/step - loss: 0.0343 - binary_accuracy: 0.9901\n",
      "Epoch 198/250\n",
      "135/135 [==============================] - 0s 221us/step - loss: 0.0360 - binary_accuracy: 0.9753\n",
      "Epoch 199/250\n",
      "135/135 [==============================] - 0s 224us/step - loss: 0.0347 - binary_accuracy: 0.9901\n",
      "Epoch 200/250\n",
      "135/135 [==============================] - 0s 224us/step - loss: 0.0344 - binary_accuracy: 0.9901\n",
      "Epoch 201/250\n",
      "135/135 [==============================] - 0s 258us/step - loss: 0.0346 - binary_accuracy: 0.9901\n",
      "Epoch 202/250\n",
      "135/135 [==============================] - 0s 240us/step - loss: 0.0355 - binary_accuracy: 0.9901\n",
      "Epoch 203/250\n",
      "135/135 [==============================] - 0s 235us/step - loss: 0.0352 - binary_accuracy: 0.9901\n",
      "Epoch 204/250\n",
      "135/135 [==============================] - 0s 234us/step - loss: 0.0341 - binary_accuracy: 0.9852\n",
      "Epoch 205/250\n",
      "135/135 [==============================] - 0s 246us/step - loss: 0.0344 - binary_accuracy: 0.9901\n",
      "Epoch 206/250\n",
      "135/135 [==============================] - 0s 234us/step - loss: 0.0338 - binary_accuracy: 0.9901\n",
      "Epoch 207/250\n",
      "135/135 [==============================] - 0s 230us/step - loss: 0.0341 - binary_accuracy: 0.9901\n",
      "Epoch 208/250\n",
      "135/135 [==============================] - 0s 226us/step - loss: 0.0355 - binary_accuracy: 0.9852\n",
      "Epoch 209/250\n",
      "135/135 [==============================] - 0s 222us/step - loss: 0.0361 - binary_accuracy: 0.9852\n",
      "Epoch 210/250\n",
      "135/135 [==============================] - 0s 249us/step - loss: 0.0349 - binary_accuracy: 0.9852\n",
      "Epoch 211/250\n",
      "135/135 [==============================] - 0s 238us/step - loss: 0.0348 - binary_accuracy: 0.9802\n",
      "Epoch 212/250\n",
      "135/135 [==============================] - 0s 241us/step - loss: 0.0338 - binary_accuracy: 0.9901\n",
      "Epoch 213/250\n",
      "135/135 [==============================] - 0s 227us/step - loss: 0.0333 - binary_accuracy: 0.9901\n",
      "Epoch 214/250\n",
      "135/135 [==============================] - 0s 224us/step - loss: 0.0344 - binary_accuracy: 0.9901\n",
      "Epoch 215/250\n",
      "135/135 [==============================] - 0s 221us/step - loss: 0.0360 - binary_accuracy: 0.9802\n",
      "Epoch 216/250\n",
      "135/135 [==============================] - 0s 220us/step - loss: 0.0341 - binary_accuracy: 0.9852\n",
      "Epoch 217/250\n",
      "135/135 [==============================] - 0s 218us/step - loss: 0.0353 - binary_accuracy: 0.9901\n",
      "Epoch 218/250\n",
      "135/135 [==============================] - 0s 243us/step - loss: 0.0340 - binary_accuracy: 0.9901\n",
      "Epoch 219/250\n",
      "135/135 [==============================] - 0s 249us/step - loss: 0.0349 - binary_accuracy: 0.9901\n",
      "Epoch 220/250\n"
     ]
    },
    {
     "name": "stdout",
     "output_type": "stream",
     "text": [
      "135/135 [==============================] - 0s 223us/step - loss: 0.0328 - binary_accuracy: 0.9901\n",
      "Epoch 221/250\n",
      "135/135 [==============================] - 0s 227us/step - loss: 0.0326 - binary_accuracy: 0.9901\n",
      "Epoch 222/250\n",
      "135/135 [==============================] - 0s 229us/step - loss: 0.0310 - binary_accuracy: 0.9901\n",
      "Epoch 223/250\n",
      "135/135 [==============================] - 0s 226us/step - loss: 0.0338 - binary_accuracy: 0.9852\n",
      "Epoch 224/250\n",
      "135/135 [==============================] - 0s 223us/step - loss: 0.0335 - binary_accuracy: 0.9901\n",
      "Epoch 225/250\n",
      "135/135 [==============================] - 0s 222us/step - loss: 0.0332 - binary_accuracy: 0.9901\n",
      "Epoch 226/250\n",
      "135/135 [==============================] - 0s 228us/step - loss: 0.0344 - binary_accuracy: 0.9901\n",
      "Epoch 227/250\n",
      "135/135 [==============================] - 0s 246us/step - loss: 0.0326 - binary_accuracy: 0.9901\n",
      "Epoch 228/250\n",
      "135/135 [==============================] - 0s 230us/step - loss: 0.0337 - binary_accuracy: 0.9852\n",
      "Epoch 229/250\n",
      "135/135 [==============================] - 0s 224us/step - loss: 0.0330 - binary_accuracy: 0.9901\n",
      "Epoch 230/250\n",
      "135/135 [==============================] - 0s 215us/step - loss: 0.0348 - binary_accuracy: 0.9852\n",
      "Epoch 231/250\n",
      "135/135 [==============================] - 0s 227us/step - loss: 0.0329 - binary_accuracy: 0.9901\n",
      "Epoch 232/250\n",
      "135/135 [==============================] - 0s 221us/step - loss: 0.0334 - binary_accuracy: 0.9852\n",
      "Epoch 233/250\n",
      "135/135 [==============================] - 0s 222us/step - loss: 0.0338 - binary_accuracy: 0.9901\n",
      "Epoch 234/250\n",
      "135/135 [==============================] - 0s 232us/step - loss: 0.0330 - binary_accuracy: 0.9852\n",
      "Epoch 235/250\n",
      "135/135 [==============================] - 0s 222us/step - loss: 0.0333 - binary_accuracy: 0.9901\n",
      "Epoch 236/250\n",
      "135/135 [==============================] - 0s 243us/step - loss: 0.0328 - binary_accuracy: 0.9852\n",
      "Epoch 237/250\n",
      "135/135 [==============================] - 0s 224us/step - loss: 0.0342 - binary_accuracy: 0.9901\n",
      "Epoch 238/250\n",
      "135/135 [==============================] - 0s 225us/step - loss: 0.0332 - binary_accuracy: 0.9901\n",
      "Epoch 239/250\n",
      "135/135 [==============================] - 0s 221us/step - loss: 0.0329 - binary_accuracy: 0.9901\n",
      "Epoch 240/250\n",
      "135/135 [==============================] - 0s 222us/step - loss: 0.0322 - binary_accuracy: 0.9901\n",
      "Epoch 241/250\n",
      "135/135 [==============================] - 0s 219us/step - loss: 0.0330 - binary_accuracy: 0.9901\n",
      "Epoch 242/250\n",
      "135/135 [==============================] - 0s 226us/step - loss: 0.0331 - binary_accuracy: 0.9901\n",
      "Epoch 243/250\n",
      "135/135 [==============================] - 0s 233us/step - loss: 0.0337 - binary_accuracy: 0.9901\n",
      "Epoch 244/250\n",
      "135/135 [==============================] - 0s 233us/step - loss: 0.0338 - binary_accuracy: 0.9901\n",
      "Epoch 245/250\n",
      "135/135 [==============================] - 0s 265us/step - loss: 0.0337 - binary_accuracy: 0.9852\n",
      "Epoch 246/250\n",
      "135/135 [==============================] - 0s 235us/step - loss: 0.0321 - binary_accuracy: 0.9852\n",
      "Epoch 247/250\n",
      "135/135 [==============================] - 0s 222us/step - loss: 0.0346 - binary_accuracy: 0.9852\n",
      "Epoch 248/250\n",
      "135/135 [==============================] - 0s 227us/step - loss: 0.0321 - binary_accuracy: 0.9901\n",
      "Epoch 249/250\n",
      "135/135 [==============================] - 0s 225us/step - loss: 0.0328 - binary_accuracy: 0.9901\n",
      "Epoch 250/250\n",
      "135/135 [==============================] - 0s 243us/step - loss: 0.0328 - binary_accuracy: 0.9901\n"
     ]
    },
    {
     "data": {
      "text/plain": [
       "<keras.callbacks.History at 0x21eed2ef108>"
      ]
     },
     "execution_count": 8,
     "metadata": {},
     "output_type": "execute_result"
    }
   ],
   "source": [
    "# loss = 'mean_squared_error'\n",
    "loss = sofnn.network.loss_function\n",
    "optimizer = 'adam'\n",
    "metrics = ['binary_accuracy']\n",
    "\n",
    "model = sofnn.model\n",
    "\n",
    "model.compile(loss=loss,\n",
    "              optimizer=optimizer,\n",
    "              metrics=metrics)\n",
    "\n",
    "model.fit(np.array(X_train),\n",
    "          np.array(y_train),\n",
    "          epochs=250,\n",
    "          verbose=1,\n",
    "          batch_size=2)"
   ]
  },
  {
   "cell_type": "code",
   "execution_count": 9,
   "metadata": {},
   "outputs": [
    {
     "data": {
      "text/plain": [
       "[array([[ 4.4675217 ,  7.4513497 ,  6.43628   ,  6.364353  ,  5.580315  ],\n",
       "        [ 1.3548213 ,  1.8974671 ,  1.9997003 ,  4.2788334 ,  4.159631  ],\n",
       "        [ 4.057565  ,  7.0921984 ,  6.724616  ,  1.0480616 ,  1.4635618 ],\n",
       "        [ 2.1701875 ,  3.3342218 ,  3.6867945 , -0.40693808, -0.31991798]],\n",
       "       dtype=float32),\n",
       " array([[1.07859  , 4.161756 , 3.9686017, 4.898035 , 4.634765 ],\n",
       "        [1.7514194, 2.8434436, 2.8087685, 3.5762403, 3.4051254],\n",
       "        [1.6232406, 2.9282587, 3.0017173, 3.4349418, 3.3457341],\n",
       "        [1.4170544, 2.145387 , 2.4165778, 2.8306563, 2.702972 ]],\n",
       "       dtype=float32)]"
      ]
     },
     "execution_count": 9,
     "metadata": {},
     "output_type": "execute_result"
    }
   ],
   "source": [
    "sofnn.network.get_layer_weights('FuzzyRules')"
   ]
  },
  {
   "cell_type": "code",
   "execution_count": 10,
   "metadata": {},
   "outputs": [
    {
     "data": {
      "text/plain": [
       "array([[5.8, 2.7, 5.1, 1.9],\n",
       "       [5.6, 3. , 4.1, 1.3],\n",
       "       [5.8, 2.7, 5.1, 1.9],\n",
       "       [5.7, 2.6, 3.5, 1. ],\n",
       "       [5.6, 2.8, 4.9, 2. ],\n",
       "       [5.4, 3.4, 1.5, 0.4],\n",
       "       [5.1, 3.7, 1.5, 0.4],\n",
       "       [4.6, 3.6, 1. , 0.2],\n",
       "       [5.9, 3. , 5.1, 1.8],\n",
       "       [5.7, 2.8, 4.1, 1.3],\n",
       "       [6.1, 2.8, 4.7, 1.2],\n",
       "       [5.5, 2.3, 4. , 1.3],\n",
       "       [6.9, 3.1, 5.1, 2.3],\n",
       "       [4.8, 3.4, 1.6, 0.2],\n",
       "       [6.7, 3.1, 4.7, 1.5]])"
      ]
     },
     "execution_count": 10,
     "metadata": {},
     "output_type": "execute_result"
    }
   ],
   "source": [
    "X_test"
   ]
  },
  {
   "cell_type": "code",
   "execution_count": 11,
   "metadata": {},
   "outputs": [
    {
     "data": {
      "text/plain": [
       "array([[0., 0., 1.],\n",
       "       [0., 1., 0.],\n",
       "       [0., 0., 1.],\n",
       "       [0., 1., 0.],\n",
       "       [0., 0., 1.],\n",
       "       [1., 0., 0.],\n",
       "       [1., 0., 0.],\n",
       "       [1., 0., 0.],\n",
       "       [0., 0., 1.],\n",
       "       [0., 1., 0.],\n",
       "       [0., 1., 0.],\n",
       "       [0., 1., 0.],\n",
       "       [0., 0., 1.],\n",
       "       [1., 0., 0.],\n",
       "       [0., 1., 0.]])"
      ]
     },
     "execution_count": 11,
     "metadata": {},
     "output_type": "execute_result"
    }
   ],
   "source": [
    "y_test"
   ]
  },
  {
   "cell_type": "code",
   "execution_count": 12,
   "metadata": {},
   "outputs": [
    {
     "data": {
      "text/plain": [
       "array([[0., 0., 1.],\n",
       "       [0., 1., 0.],\n",
       "       [0., 0., 1.],\n",
       "       [0., 1., 0.],\n",
       "       [0., 0., 1.],\n",
       "       [1., 0., 0.],\n",
       "       [1., 0., 0.],\n",
       "       [1., 0., 0.],\n",
       "       [0., 0., 1.],\n",
       "       [0., 1., 0.],\n",
       "       [0., 1., 0.],\n",
       "       [0., 1., 0.],\n",
       "       [0., 0., 1.],\n",
       "       [1., 0., 0.],\n",
       "       [0., 1., 0.]], dtype=float32)"
      ]
     },
     "execution_count": 12,
     "metadata": {},
     "output_type": "execute_result"
    }
   ],
   "source": [
    "y_pred = model.predict(X_test)\n",
    "y_pred.round()"
   ]
  },
  {
   "cell_type": "code",
   "execution_count": 13,
   "metadata": {},
   "outputs": [
    {
     "data": {
      "text/plain": [
       "array([[ True,  True,  True],\n",
       "       [ True,  True,  True],\n",
       "       [ True,  True,  True],\n",
       "       [ True,  True,  True],\n",
       "       [ True,  True,  True],\n",
       "       [ True,  True,  True],\n",
       "       [ True,  True,  True],\n",
       "       [ True,  True,  True],\n",
       "       [ True,  True,  True],\n",
       "       [ True,  True,  True],\n",
       "       [ True,  True,  True],\n",
       "       [ True,  True,  True],\n",
       "       [ True,  True,  True],\n",
       "       [ True,  True,  True],\n",
       "       [ True,  True,  True]])"
      ]
     },
     "execution_count": 13,
     "metadata": {},
     "output_type": "execute_result"
    }
   ],
   "source": [
    "acc = y_test == y_pred.round()\n",
    "acc"
   ]
  },
  {
   "cell_type": "code",
   "execution_count": 14,
   "metadata": {},
   "outputs": [
    {
     "data": {
      "text/plain": [
       "1.0"
      ]
     },
     "execution_count": 14,
     "metadata": {},
     "output_type": "execute_result"
    }
   ],
   "source": [
    "acc.sum() / acc.size"
   ]
  },
  {
   "cell_type": "markdown",
   "metadata": {},
   "source": [
    "## Model Prediction Results"
   ]
  },
  {
   "cell_type": "code",
   "execution_count": 15,
   "metadata": {},
   "outputs": [
    {
     "name": "stdout",
     "output_type": "stream",
     "text": [
      "15/15 [==============================] - 0s 2ms/step\n",
      "Model Loss: 0.04002071\n",
      "Binary Accuracy: 100.0%\n"
     ]
    }
   ],
   "source": [
    "pred_loss, pred_bin_acc = model.evaluate(X_test, y_test)\n",
    "print('Model Loss: {:0.8f}'.format(pred_loss))\n",
    "print('Binary Accuracy: {:2.1f}%'.format(100*pred_bin_acc))"
   ]
  },
  {
   "cell_type": "code",
   "execution_count": 16,
   "metadata": {},
   "outputs": [
    {
     "data": {
      "text/plain": [
       "['loss', 'binary_accuracy']"
      ]
     },
     "execution_count": 16,
     "metadata": {},
     "output_type": "execute_result"
    }
   ],
   "source": [
    "model.metrics_names"
   ]
  },
  {
   "cell_type": "markdown",
   "metadata": {},
   "source": [
    "## Plot Results"
   ]
  },
  {
   "cell_type": "code",
   "execution_count": 17,
   "metadata": {},
   "outputs": [
    {
     "data": {
      "image/png": "[encoded data removed]",
      "text/plain": [
       "<Figure size 640x480 with 1 Axes>"
      ]
     },
     "metadata": {},
     "output_type": "display_data"
    }
   ],
   "source": [
    "w = sofnn.network.get_layer_weights('FuzzyRules')\n",
    "\n",
    "\n",
    "plt.clf()\n",
    "plt.title('Iris')\n",
    "plt.ylabel('x[0]')\n",
    "plt.xlabel('x[1]')\n",
    "plt.scatter([a[0] for a in X_train], [a[1] for a in X_train], color='r', alpha=0.5, s=5)\n",
    "for i in range(0,sofnn.network.neurons):\n",
    "    ellipse = Ellipse((w[0][0][i], w[0][1][i]), w[1][0][i],w[1][1][i], color='b', fill=False)\n",
    "    ax = plt.gca()\n",
    "    ax.add_patch(ellipse)\n",
    "\n",
    "plt.scatter(w[0][0], w[0][1], color='b', alpha=0.8, s=25, marker='x')\n",
    "plt.show()"
   ]
  }
 ],
 "metadata": {
  "kernelspec": {
   "display_name": "Python 3 (ipykernel)",
   "language": "python",
   "name": "python3"
  },
  "language_info": {
   "codemirror_mode": {
    "name": "ipython",
    "version": 3
   },
   "file_extension": ".py",
   "mimetype": "text/x-python",
   "name": "python",
   "nbconvert_exporter": "python",
   "pygments_lexer": "ipython3",
   "version": "3.7.9"
  }
 },
 "nbformat": 4,
 "nbformat_minor": 1
}
